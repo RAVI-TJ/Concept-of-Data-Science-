{
 "cells": [
  {
   "cell_type": "code",
   "execution_count": 2,
   "id": "4cc75453",
   "metadata": {},
   "outputs": [],
   "source": [
    "class Node:\n",
    "    def __init__(self, char):\n",
    "        self.char = char\n",
    "        self.left = None\n",
    "        self.eq = None\n",
    "        self.right = None\n",
    "        self.is_end_of_word = False\n",
    "\n",
    "\n",
    "class TernarySearchTree:\n",
    "    def __init__(self):\n",
    "        self.root = None\n",
    "\n",
    "    def insert(self, word):\n",
    "        if not word:\n",
    "            return\n",
    "        self.root = self._insert(self.root, word, 0)\n",
    "\n",
    "    def _insert(self, node, word, index):\n",
    "        char = word[index]\n",
    "\n",
    "        if node is None:\n",
    "            node = Node(char)\n",
    "\n",
    "        if char < node.char:\n",
    "            node.left = self._insert(node.left, word, index)\n",
    "        elif char > node.char:\n",
    "            node.right = self._insert(node.right, word, index)\n",
    "        else:\n",
    "            if index + 1 < len(word):\n",
    "                node.eq = self._insert(node.eq, word, index + 1)\n",
    "            else:\n",
    "                node.is_end_of_word = True\n",
    "        return node\n",
    "\n",
    " \n",
    "    def search(self, word):\n",
    "        return self._search(self.root, word, 0)\n",
    "    def _search(self, node, word, index):\n",
    "        if not node:\n",
    "            return False\n",
    "        char = word[index]\n",
    "        if char < node.char:\n",
    "            return self._search(node.left, word, index)\n",
    "        elif char > node.char:\n",
    "            return self._search(node.right, word, index)\n",
    "        else:\n",
    "            if index + 1 == len(word):\n",
    "                return node.is_end_of_word\n",
    "            return self._search(node.eq, word, index + 1)"
   ]
  },
  {
   "cell_type": "markdown",
   "id": "bde03fd9",
   "metadata": {},
   "source": [
    "### Example "
   ]
  },
  {
   "cell_type": "code",
   "execution_count": 3,
   "id": "00d62fd6",
   "metadata": {},
   "outputs": [
    {
     "name": "stdout",
     "output_type": "stream",
     "text": [
      "Words inserted.\n"
     ]
    }
   ],
   "source": [
    "# Create TST and insert words\n",
    "tst = TernarySearchTree()\n",
    "words_to_insert = [\"cat\", \"cap\", \"cape\", \"can\", \"dog\", \"dot\", \"dove\", \"apple\"]\n",
    "\n",
    "for word in words_to_insert:\n",
    "    tst.insert(word)\n",
    "\n",
    "print(\"Words inserted.\")\n"
   ]
  },
  {
   "cell_type": "code",
   "execution_count": 4,
   "id": "10c66f17",
   "metadata": {},
   "outputs": [
    {
     "name": "stdout",
     "output_type": "stream",
     "text": [
      "Search 'cat': ✅ Found\n",
      "Search 'cap': ✅ Found\n",
      "Search 'cape': ✅ Found\n",
      "Search 'can': ✅ Found\n",
      "Search 'dog': ✅ Found\n",
      "Search 'dot': ✅ Found\n",
      "Search 'dove': ✅ Found\n",
      "Search 'apple': ✅ Found\n"
     ]
    }
   ],
   "source": [
    "##### Search for words\n",
    "# Words that should be found\n",
    "found_words = [\"cat\", \"cap\", \"cape\", \"can\", \"dog\", \"dot\", \"dove\", \"apple\"]\n",
    "\n",
    "for word in found_words:\n",
    "    result = tst.search(word)\n",
    "    print(f\"Search '{word}': {'✅ Found' if result else '❌ Not Found'}\")\n"
   ]
  },
  {
   "cell_type": "code",
   "execution_count": 7,
   "id": "f80438e3",
   "metadata": {},
   "outputs": [],
   "source": [
    "tst.insert('abc')"
   ]
  },
  {
   "cell_type": "code",
   "execution_count": 8,
   "id": "b09b8a5f",
   "metadata": {},
   "outputs": [
    {
     "name": "stdout",
     "output_type": "stream",
     "text": [
      "22 words inserted into the Ternary Search Tree.\n"
     ]
    }
   ],
   "source": [
    "# Load words from the insert_words.txt file and insert into the tree\n",
    "file_path = r\"D:\\SEMESTER-2\\Concepts Of Data Science\\PROJECT\\data (1)\\data\\search_trees\\insert_words.txt\"\n",
    "\n",
    "# Initialize TST\n",
    "tst = TernarySearchTree()\n",
    "\n",
    "# Insert words from file\n",
    "with open(file_path, 'r') as file:\n",
    "    count = 0\n",
    "    for line in file:\n",
    "        word = line.strip()\n",
    "        if word:  # skip empty lines\n",
    "            tst.insert(word)\n",
    "            count += 1\n",
    "\n",
    "print(f\"{count} words inserted into the Ternary Search Tree.\")\n"
   ]
  },
  {
   "cell_type": "code",
   "execution_count": 10,
   "id": "fcc024e7",
   "metadata": {},
   "outputs": [
    {
     "name": "stdout",
     "output_type": "stream",
     "text": [
      "Total unique words inserted: 20\n"
     ]
    }
   ],
   "source": [
    "with open(file_path, 'r') as file:\n",
    "    unique_words = set(word.strip() for word in file if word.strip())\n",
    "\n",
    "for word in unique_words:\n",
    "    tst.insert(word)\n",
    "\n",
    "print(f\"Total unique words inserted: {len(unique_words)}\")\n"
   ]
  },
  {
   "cell_type": "code",
   "execution_count": 11,
   "id": "17fac6c9",
   "metadata": {},
   "outputs": [
    {
     "name": "stdout",
     "output_type": "stream",
     "text": [
      "🔍 Exact Match Tests:\n",
      "Search 'cat': ✅ Found\n",
      "Search 'bat': ✅ Found\n",
      "Search 'car': ✅ Found\n",
      "Search 'can': ✅ Found\n",
      "Search 'cap': ✅ Found\n",
      "Search 'cape': ✅ Found\n",
      "\n",
      "🔍 Prefix Match (should NOT be found):\n",
      "Search 'ca': ❌ Not Found\n",
      "Search 'ba': ❌ Not Found\n",
      "Search 'ca': ❌ Not Found\n",
      "Search 'c': ❌ Not Found\n",
      "Search 'b': ❌ Not Found\n",
      "Search 'baton': ❌ Not Found\n",
      "Search 'catt': ❌ Not Found\n"
     ]
    }
   ],
   "source": [
    "# Sample words inserted\n",
    "words_inserted = [\"cat\", \"bat\", \"car\", \"can\", \"cap\", \"cape\"]\n",
    "\n",
    "# Insert into TST\n",
    "tst = TernarySearchTree()\n",
    "for word in words_inserted:\n",
    "    tst.insert(word)\n",
    "\n",
    "# Check full words\n",
    "print(\"🔍 Exact Match Tests:\")\n",
    "for word in words_inserted:\n",
    "    print(f\"Search '{word}': {'✅ Found' if tst.search(word) else '❌ Not Found'}\")\n",
    "\n",
    "# Now check that prefixes are not found\n",
    "print(\"\\n🔍 Prefix Match (should NOT be found):\")\n",
    "prefixes = [\"ca\", \"ba\", \"cap\", \"ca\", \"c\", \"b\", \"baton\", \"catt\"]\n",
    "\n",
    "for prefix in prefixes:\n",
    "    if prefix not in words_inserted:\n",
    "        print(f\"Search '{prefix}': {'❌ Not Found' if not tst.search(prefix) else '🚫 Wrongly Found'}\")\n"
   ]
  },
  {
   "cell_type": "code",
   "execution_count": null,
   "id": "10abfeda",
   "metadata": {},
   "outputs": [],
   "source": [
    "# Path to file with words NOT inserted\n",
    "not_inserted_path = r\"C:\\Users\\Lenovo\\Desktop\\Concepts of data science\\Concept-of-Data-Science-\\search_trees\\not_insert_words.txt\"\n",
    "\n",
    "# Load words that should NOT be found\n",
    "with open(not_inserted_path, 'r') as file:\n",
    "    not_insert_words = [line.strip() for line in file if line.strip()]\n",
    "\n",
    "# Check if any of them are (incorrectly) found in the TST\n",
    "false_positives = []\n",
    "\n",
    "for word in not_insert_words:\n",
    "    if tst.search(word):\n",
    "        false_positives.append(word)\n",
    "\n",
    "# Output the result\n",
    "if false_positives:\n",
    "    print(f\"🚨 Error: {len(false_positives)} words were unexpectedly found in the TST:\")\n",
    "    for word in false_positives:\n",
    "        print(f\" - {word}\")\n",
    "else:\n",
    "    print(\"✅ All words in 'not_insert_words.txt' are correctly NOT found in the TST.\")"
   ]
  }
 ],
 "metadata": {
  "kernelspec": {
   "display_name": "base",
   "language": "python",
   "name": "python3"
  },
  "language_info": {
   "codemirror_mode": {
    "name": "ipython",
    "version": 3
   },
   "file_extension": ".py",
   "mimetype": "text/x-python",
   "name": "python",
   "nbconvert_exporter": "python",
   "pygments_lexer": "ipython3",
   "version": "3.12.4"
  }
 },
 "nbformat": 4,
 "nbformat_minor": 5
}
