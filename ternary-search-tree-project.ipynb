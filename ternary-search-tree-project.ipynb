{
 "cells": [
  {
   "cell_type": "code",
   "execution_count": null,
   "id": "4cc75453",
   "metadata": {},
   "outputs": [],
   "source": [
    "class Node:\n",
    "    def __init__(self, char):\n",
    "        self.char = char\n",
    "        self.left = None\n",
    "        self.eq = None\n",
    "        self.right = None\n",
    "        self.is_end_of_word = False\n",
    "\n",
    "\n",
    "class TernarySearchTree:\n",
    "    def __init__(self):\n",
    "        self.root = None\n",
    "\n",
    "    def insert(self, word):\n",
    "        if not word:\n",
    "            return\n",
    "        self.root = self._insert(self.root, word, 0)\n",
    "\n",
    "    def _insert(self, node, word, index):\n",
    "        char = word[index]\n",
    "\n",
    "        if node is None:\n",
    "            node = Node(char)\n",
    "\n",
    "        if char < node.char:\n",
    "            node.left = self._insert(node.left, word, index)\n",
    "        elif char > node.char:\n",
    "            node.right = self._insert(node.right, word, index)\n",
    "        else:\n",
    "            if index + 1 < len(word):\n",
    "                node.eq = self._insert(node.eq, word, index + 1)\n",
    "            else:\n",
    "                node.is_end_of_word = True\n",
    "        return node\n",
    "\n",
    " def search(self, word):\n",
    "        return self._search(self.root, word, 0)\n",
    "    def _search(self, node, word, index):\n",
    "        if not node:\n",
    "            return False\n",
    "        char = word[index]\n",
    "        if char < node.char:\n",
    "            return self._search(node.left, word, index)\n",
    "        elif char > node.char:\n",
    "            return self._search(node.right, word, index)\n",
    "        else:\n",
    "            if index + 1 == len(word):\n",
    "                return node.is_end_of_word\n",
    "            return self._search(node.eq, word, index + 1)\n"
   ]
  }
 ],
 "metadata": {
  "kernelspec": {
   "display_name": "base",
   "language": "python",
   "name": "python3"
  },
  "language_info": {
   "codemirror_mode": {
    "name": "ipython",
    "version": 3
   },
   "file_extension": ".py",
   "mimetype": "text/x-python",
   "name": "python",
   "nbconvert_exporter": "python",
   "pygments_lexer": "ipython3",
   "version": "3.12.4"
  }
 },
 "nbformat": 4,
 "nbformat_minor": 5
}
